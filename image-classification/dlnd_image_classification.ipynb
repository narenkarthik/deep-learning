{
 "cells": [
  {
   "cell_type": "markdown",
   "metadata": {
    "collapsed": true,
    "deletable": true,
    "editable": true
   },
   "source": [
    "# Image Classification\n",
    "In this project, you'll classify images from the [CIFAR-10 dataset](https://www.cs.toronto.edu/~kriz/cifar.html).  The dataset consists of airplanes, dogs, cats, and other objects. You'll preprocess the images, then train a convolutional neural network on all the samples. The images need to be normalized and the labels need to be one-hot encoded.  You'll get to apply what you learned and build a convolutional, max pooling, dropout, and fully connected layers.  At the end, you'll get to see your neural network's predictions on the sample images.\n",
    "## Get the Data\n",
    "Run the following cell to download the [CIFAR-10 dataset for python](https://www.cs.toronto.edu/~kriz/cifar-10-python.tar.gz)."
   ]
  },
  {
   "cell_type": "code",
   "execution_count": 26,
   "metadata": {
    "collapsed": false,
    "deletable": true,
    "editable": true
   },
   "outputs": [
    {
     "name": "stdout",
     "output_type": "stream",
     "text": [
      "All files found!\n"
     ]
    }
   ],
   "source": [
    "\"\"\"\n",
    "DON'T MODIFY ANYTHING IN THIS CELL THAT IS BELOW THIS LINE\n",
    "\"\"\"\n",
    "from urllib.request import urlretrieve\n",
    "from os.path import isfile, isdir\n",
    "from tqdm import tqdm\n",
    "import problem_unittests as tests\n",
    "import tarfile\n",
    "\n",
    "cifar10_dataset_folder_path = 'cifar-10-batches-py'\n",
    "\n",
    "class DLProgress(tqdm):\n",
    "    last_block = 0\n",
    "\n",
    "    def hook(self, block_num=1, block_size=1, total_size=None):\n",
    "        self.total = total_size\n",
    "        self.update((block_num - self.last_block) * block_size)\n",
    "        self.last_block = block_num\n",
    "\n",
    "if not isfile('cifar-10-python.tar.gz'):\n",
    "    with DLProgress(unit='B', unit_scale=True, miniters=1, desc='CIFAR-10 Dataset') as pbar:\n",
    "        urlretrieve(\n",
    "            'https://www.cs.toronto.edu/~kriz/cifar-10-python.tar.gz',\n",
    "            'cifar-10-python.tar.gz',\n",
    "            pbar.hook)\n",
    "\n",
    "if not isdir(cifar10_dataset_folder_path):\n",
    "    with tarfile.open('cifar-10-python.tar.gz') as tar:\n",
    "        tar.extractall()\n",
    "        tar.close()\n",
    "\n",
    "\n",
    "tests.test_folder_path(cifar10_dataset_folder_path)"
   ]
  },
  {
   "cell_type": "markdown",
   "metadata": {
    "deletable": true,
    "editable": true
   },
   "source": [
    "## Explore the Data\n",
    "The dataset is broken into batches to prevent your machine from running out of memory.  The CIFAR-10 dataset consists of 5 batches, named `data_batch_1`, `data_batch_2`, etc.. Each batch contains the labels and images that are one of the following:\n",
    "* airplane\n",
    "* automobile\n",
    "* bird\n",
    "* cat\n",
    "* deer\n",
    "* dog\n",
    "* frog\n",
    "* horse\n",
    "* ship\n",
    "* truck\n",
    "\n",
    "Understanding a dataset is part of making predictions on the data.  Play around with the code cell below by changing the `batch_id` and `sample_id`. The `batch_id` is the id for a batch (1-5). The `sample_id` is the id for a image and label pair in the batch.\n",
    "\n",
    "Ask yourself \"What are all possible labels?\", \"What is the range of values for the image data?\", \"Are the labels in order or random?\".  Answers to questions like these will help you preprocess the data and end up with better predictions."
   ]
  },
  {
   "cell_type": "code",
   "execution_count": 27,
   "metadata": {
    "collapsed": false,
    "deletable": true,
    "editable": true
   },
   "outputs": [
    {
     "name": "stdout",
     "output_type": "stream",
     "text": [
      "\n",
      "Stats of batch 1:\n",
      "Samples: 10000\n",
      "Label Counts: {0: 1005, 1: 974, 2: 1032, 3: 1016, 4: 999, 5: 937, 6: 1030, 7: 1001, 8: 1025, 9: 981}\n",
      "First 20 Labels: [6, 9, 9, 4, 1, 1, 2, 7, 8, 3, 4, 7, 7, 2, 9, 9, 9, 3, 2, 6]\n",
      "\n",
      "Example of Image 5:\n",
      "Image - Min Value: 0 Max Value: 252\n",
      "Image - Shape: (32, 32, 3)\n",
      "Label - Label Id: 1 Name: automobile\n"
     ]
    },
    {
     "data": {
      "image/png": "[encoded data removed]",
      "text/plain": [
       "<matplotlib.figure.Figure at 0x7f9a7fc35940>"
      ]
     },
     "metadata": {
      "image/png": {
       "height": 250,
       "width": 253
      }
     },
     "output_type": "display_data"
    }
   ],
   "source": [
    "%matplotlib inline\n",
    "%config InlineBackend.figure_format = 'retina'\n",
    "\n",
    "import helper\n",
    "import numpy as np\n",
    "\n",
    "# Explore the dataset\n",
    "batch_id = 1\n",
    "sample_id = 5\n",
    "helper.display_stats(cifar10_dataset_folder_path, batch_id, sample_id)"
   ]
  },
  {
   "cell_type": "markdown",
   "metadata": {
    "deletable": true,
    "editable": true
   },
   "source": [
    "## Implement Preprocess Functions\n",
    "### Normalize\n",
    "In the cell below, implement the `normalize` function to take in image data, `x`, and return it as a normalized Numpy array. The values should be in the range of 0 to 1, inclusive.  The return object should be the same shape as `x`."
   ]
  },
  {
   "cell_type": "code",
   "execution_count": 28,
   "metadata": {
    "collapsed": false,
    "deletable": true,
    "editable": true
   },
   "outputs": [
    {
     "name": "stdout",
     "output_type": "stream",
     "text": [
      "Tests Passed\n"
     ]
    }
   ],
   "source": [
    "def normalize(x):\n",
    "    \"\"\"\n",
    "    Normalize a list of sample image data in the range of 0 to 1\n",
    "    : x: List of image data.  The image shape is (32, 32, 3)\n",
    "    : return: Numpy array of normalize data\n",
    "    \"\"\"\n",
    "    # TODO: Implement Function\n",
    "    img_min = np.min(x)\n",
    "    img_max = np.max(x)\n",
    "    return (x - img_min)/(img_max - img_min)\n",
    "\n",
    "\n",
    "\"\"\"\n",
    "DON'T MODIFY ANYTHING IN THIS CELL THAT IS BELOW THIS LINE\n",
    "\"\"\"\n",
    "tests.test_normalize(normalize)"
   ]
  },
  {
   "cell_type": "markdown",
   "metadata": {
    "deletable": true,
    "editable": true
   },
   "source": [
    "### One-hot encode\n",
    "Just like the previous code cell, you'll be implementing a function for preprocessing.  This time, you'll implement the `one_hot_encode` function. The input, `x`, are a list of labels.  Implement the function to return the list of labels as One-Hot encoded Numpy array.  The possible values for labels are 0 to 9. The one-hot encoding function should return the same encoding for each value between each call to `one_hot_encode`.  Make sure to save the map of encodings outside the function.\n",
    "\n",
    "Hint: Don't reinvent the wheel."
   ]
  },
  {
   "cell_type": "code",
   "execution_count": 29,
   "metadata": {
    "collapsed": false,
    "deletable": true,
    "editable": true
   },
   "outputs": [
    {
     "name": "stdout",
     "output_type": "stream",
     "text": [
      "Tests Passed\n"
     ]
    }
   ],
   "source": [
    "def one_hot_encode(x):\n",
    "    \"\"\"\n",
    "    One hot encode a list of sample labels. Return a one-hot encoded vector for each label.\n",
    "    : x: List of sample Labels\n",
    "    : return: Numpy array of one-hot encoded labels\n",
    "    \"\"\"\n",
    "    # TODO: Implement Function\n",
    "    return np.eye(10)[x]\n",
    "\n",
    "\n",
    "\"\"\"\n",
    "DON'T MODIFY ANYTHING IN THIS CELL THAT IS BELOW THIS LINE\n",
    "\"\"\"\n",
    "tests.test_one_hot_encode(one_hot_encode)"
   ]
  },
  {
   "cell_type": "markdown",
   "metadata": {
    "deletable": true,
    "editable": true
   },
   "source": [
    "### Randomize Data\n",
    "As you saw from exploring the data above, the order of the samples are randomized.  It doesn't hurt to randomize it again, but you don't need to for this dataset."
   ]
  },
  {
   "cell_type": "markdown",
   "metadata": {
    "deletable": true,
    "editable": true
   },
   "source": [
    "## Preprocess all the data and save it\n",
    "Running the code cell below will preprocess all the CIFAR-10 data and save it to file. The code below also uses 10% of the training data for validation."
   ]
  },
  {
   "cell_type": "code",
   "execution_count": 30,
   "metadata": {
    "collapsed": false,
    "deletable": true,
    "editable": true
   },
   "outputs": [],
   "source": [
    "\"\"\"\n",
    "DON'T MODIFY ANYTHING IN THIS CELL\n",
    "\"\"\"\n",
    "# Preprocess Training, Validation, and Testing Data\n",
    "helper.preprocess_and_save_data(cifar10_dataset_folder_path, normalize, one_hot_encode)"
   ]
  },
  {
   "cell_type": "markdown",
   "metadata": {
    "deletable": true,
    "editable": true
   },
   "source": [
    "# Check Point\n",
    "This is your first checkpoint.  If you ever decide to come back to this notebook or have to restart the notebook, you can start from here.  The preprocessed data has been saved to disk."
   ]
  },
  {
   "cell_type": "code",
   "execution_count": 31,
   "metadata": {
    "collapsed": true,
    "deletable": true,
    "editable": true
   },
   "outputs": [],
   "source": [
    "\"\"\"\n",
    "DON'T MODIFY ANYTHING IN THIS CELL\n",
    "\"\"\"\n",
    "import pickle\n",
    "import problem_unittests as tests\n",
    "import helper\n",
    "\n",
    "# Load the Preprocessed Validation data\n",
    "valid_features, valid_labels = pickle.load(open('preprocess_validation.p', mode='rb'))"
   ]
  },
  {
   "cell_type": "markdown",
   "metadata": {
    "deletable": true,
    "editable": true
   },
   "source": [
    "## Build the network\n",
    "For the neural network, you'll build each layer into a function.  Most of the code you've seen has been outside of functions. To test your code more thoroughly, we require that you put each layer in a function.  This allows us to give you better feedback and test for simple mistakes using our unittests before you submit your project.\n",
    "\n",
    ">**Note:** If you're finding it hard to dedicate enough time for this course each week, we've provided a small shortcut to this part of the project. In the next couple of problems, you'll have the option to use classes from the [TensorFlow Layers](https://www.tensorflow.org/api_docs/python/tf/layers) or [TensorFlow Layers (contrib)](https://www.tensorflow.org/api_guides/python/contrib.layers) packages to build each layer, except the layers you build in the \"Convolutional and Max Pooling Layer\" section.  TF Layers is similar to Keras's and TFLearn's abstraction to layers, so it's easy to pickup.\n",
    "\n",
    ">However, if you would like to get the most out of this course, try to solve all the problems _without_ using anything from the TF Layers packages. You **can** still use classes from other packages that happen to have the same name as ones you find in TF Layers! For example, instead of using the TF Layers version of the `conv2d` class, [tf.layers.conv2d](https://www.tensorflow.org/api_docs/python/tf/layers/conv2d), you would want to use the TF Neural Network version of `conv2d`, [tf.nn.conv2d](https://www.tensorflow.org/api_docs/python/tf/nn/conv2d). \n",
    "\n",
    "Let's begin!\n",
    "\n",
    "### Input\n",
    "The neural network needs to read the image data, one-hot encoded labels, and dropout keep probability. Implement the following functions\n",
    "* Implement `neural_net_image_input`\n",
    " * Return a [TF Placeholder](https://www.tensorflow.org/api_docs/python/tf/placeholder)\n",
    " * Set the shape using `image_shape` with batch size set to `None`.\n",
    " * Name the TensorFlow placeholder \"x\" using the TensorFlow `name` parameter in the [TF Placeholder](https://www.tensorflow.org/api_docs/python/tf/placeholder).\n",
    "* Implement `neural_net_label_input`\n",
    " * Return a [TF Placeholder](https://www.tensorflow.org/api_docs/python/tf/placeholder)\n",
    " * Set the shape using `n_classes` with batch size set to `None`.\n",
    " * Name the TensorFlow placeholder \"y\" using the TensorFlow `name` parameter in the [TF Placeholder](https://www.tensorflow.org/api_docs/python/tf/placeholder).\n",
    "* Implement `neural_net_keep_prob_input`\n",
    " * Return a [TF Placeholder](https://www.tensorflow.org/api_docs/python/tf/placeholder) for dropout keep probability.\n",
    " * Name the TensorFlow placeholder \"keep_prob\" using the TensorFlow `name` parameter in the [TF Placeholder](https://www.tensorflow.org/api_docs/python/tf/placeholder).\n",
    "\n",
    "These names will be used at the end of the project to load your saved model.\n",
    "\n",
    "Note: `None` for shapes in TensorFlow allow for a dynamic size."
   ]
  },
  {
   "cell_type": "code",
   "execution_count": 32,
   "metadata": {
    "collapsed": false,
    "deletable": true,
    "editable": true
   },
   "outputs": [
    {
     "name": "stdout",
     "output_type": "stream",
     "text": [
      "Image Input Tests Passed.\n",
      "Label Input Tests Passed.\n",
      "Keep Prob Tests Passed.\n"
     ]
    }
   ],
   "source": [
    "import tensorflow as tf\n",
    "\n",
    "def neural_net_image_input(image_shape):\n",
    "    \"\"\"\n",
    "    Return a Tensor for a bach of image input\n",
    "    : image_shape: Shape of the images\n",
    "    : return: Tensor for image input.\n",
    "    \"\"\"\n",
    "    # TODO: Implement Function\n",
    "    return tf.placeholder(tf.float32, [None, *image_shape], name='x')\n",
    "\n",
    "\n",
    "def neural_net_label_input(n_classes):\n",
    "    \"\"\"\n",
    "    Return a Tensor for a batch of label input\n",
    "    : n_classes: Number of classes\n",
    "    : return: Tensor for label input.\n",
    "    \"\"\"\n",
    "    # TODO: Implement Function\n",
    "    return tf.placeholder(tf.float32, [None, n_classes], name='y')\n",
    "\n",
    "\n",
    "def neural_net_keep_prob_input():\n",
    "    \"\"\"\n",
    "    Return a Tensor for keep probability\n",
    "    : return: Tensor for keep probability.\n",
    "    \"\"\"\n",
    "    # TODO: Implement Function\n",
    "    return tf.placeholder(tf.float32, name='keep_prob')\n",
    "\n",
    "\n",
    "\"\"\"\n",
    "DON'T MODIFY ANYTHING IN THIS CELL THAT IS BELOW THIS LINE\n",
    "\"\"\"\n",
    "tf.reset_default_graph()\n",
    "tests.test_nn_image_inputs(neural_net_image_input)\n",
    "tests.test_nn_label_inputs(neural_net_label_input)\n",
    "tests.test_nn_keep_prob_inputs(neural_net_keep_prob_input)"
   ]
  },
  {
   "cell_type": "markdown",
   "metadata": {
    "deletable": true,
    "editable": true
   },
   "source": [
    "### Convolution and Max Pooling Layer\n",
    "Convolution layers have a lot of success with images. For this code cell, you should implement the function `conv2d_maxpool` to apply convolution then max pooling:\n",
    "* Create the weight and bias using `conv_ksize`, `conv_num_outputs` and the shape of `x_tensor`.\n",
    "* Apply a convolution to `x_tensor` using weight and `conv_strides`.\n",
    " * We recommend you use same padding, but you're welcome to use any padding.\n",
    "* Add bias\n",
    "* Add a nonlinear activation to the convolution.\n",
    "* Apply Max Pooling using `pool_ksize` and `pool_strides`.\n",
    " * We recommend you use same padding, but you're welcome to use any padding.\n",
    "\n",
    "**Note:** You **can't** use [TensorFlow Layers](https://www.tensorflow.org/api_docs/python/tf/layers) or [TensorFlow Layers (contrib)](https://www.tensorflow.org/api_guides/python/contrib.layers) for **this** layer, but you can still use TensorFlow's [Neural Network](https://www.tensorflow.org/api_docs/python/tf/nn) package. You may still use the shortcut option for all the **other** layers."
   ]
  },
  {
   "cell_type": "code",
   "execution_count": 44,
   "metadata": {
    "collapsed": false,
    "deletable": true,
    "editable": true
   },
   "outputs": [
    {
     "name": "stdout",
     "output_type": "stream",
     "text": [
      "Tests Passed\n"
     ]
    }
   ],
   "source": [
    "def conv2d_maxpool(x_tensor, conv_num_outputs, conv_ksize, conv_strides, pool_ksize, pool_strides):\n",
    "    \"\"\"\n",
    "    Apply convolution then max pooling to x_tensor\n",
    "    :param x_tensor: TensorFlow Tensor\n",
    "    :param conv_num_outputs: Number of outputs for the convolutional layer\n",
    "    :param conv_ksize: kernal size 2-D Tuple for the convolutional layer\n",
    "    :param conv_strides: Stride 2-D Tuple for convolution\n",
    "    :param pool_ksize: kernal size 2-D Tuple for pool\n",
    "    :param pool_strides: Stride 2-D Tuple for pool\n",
    "    : return: A tensor that represents convolution and max pooling of x_tensor\n",
    "    \"\"\"\n",
    "    # TODO: Implement Function\n",
    "    weights = tf.Variable(tf.random_normal(shape=(*conv_ksize, int(x_tensor.shape[3]), conv_num_outputs), stddev=0.1))\n",
    "       \n",
    "    bias = tf.Variable(tf.zeros(conv_num_outputs))\n",
    "    \n",
    "    c_layer = tf.nn.conv2d(x_tensor, weights, strides=(1, *conv_strides, 1), padding='SAME')\n",
    "    \n",
    "    c_layer = tf.nn.bias_add(c_layer, bias)\n",
    "\n",
    "    c_layer = tf.nn.relu(c_layer)\n",
    "\n",
    "    c_layer = tf.nn.max_pool(c_layer, (1, *pool_ksize, 1), (1, *pool_strides, 1), padding='SAME')\n",
    "    \n",
    "    return c_layer \n",
    "\n",
    "\n",
    "\"\"\"\n",
    "DON'T MODIFY ANYTHING IN THIS CELL THAT IS BELOW THIS LINE\n",
    "\"\"\"\n",
    "tests.test_con_pool(conv2d_maxpool)"
   ]
  },
  {
   "cell_type": "markdown",
   "metadata": {
    "deletable": true,
    "editable": true
   },
   "source": [
    "### Flatten Layer\n",
    "Implement the `flatten` function to change the dimension of `x_tensor` from a 4-D tensor to a 2-D tensor.  The output should be the shape (*Batch Size*, *Flattened Image Size*). Shortcut option: you can use classes from the [TensorFlow Layers](https://www.tensorflow.org/api_docs/python/tf/layers) or [TensorFlow Layers (contrib)](https://www.tensorflow.org/api_guides/python/contrib.layers) packages for this layer. For more of a challenge, only use other TensorFlow packages."
   ]
  },
  {
   "cell_type": "code",
   "execution_count": 45,
   "metadata": {
    "collapsed": false,
    "deletable": true,
    "editable": true
   },
   "outputs": [
    {
     "name": "stdout",
     "output_type": "stream",
     "text": [
      "Tests Passed\n"
     ]
    }
   ],
   "source": [
    "def flatten(x_tensor):\n",
    "    \"\"\"\n",
    "    Flatten x_tensor to (Batch Size, Flattened Image Size)\n",
    "    : x_tensor: A tensor of size (Batch Size, ...), where ... are the image dimensions.\n",
    "    : return: A tensor of size (Batch Size, Flattened Image Size).\n",
    "    \"\"\"\n",
    "    # TODO: Implement Function\n",
    "    flattened_tensor = tf.reshape(x_tensor, shape=(-1, (int(x_tensor.shape[1]) * int(x_tensor.shape[2]) * int(x_tensor.shape[3]))))\n",
    "    return flattened_tensor\n",
    "\n",
    "\n",
    "\"\"\"\n",
    "DON'T MODIFY ANYTHING IN THIS CELL THAT IS BELOW THIS LINE\n",
    "\"\"\"\n",
    "tests.test_flatten(flatten)"
   ]
  },
  {
   "cell_type": "markdown",
   "metadata": {
    "deletable": true,
    "editable": true
   },
   "source": [
    "### Fully-Connected Layer\n",
    "Implement the `fully_conn` function to apply a fully connected layer to `x_tensor` with the shape (*Batch Size*, *num_outputs*). Shortcut option: you can use classes from the [TensorFlow Layers](https://www.tensorflow.org/api_docs/python/tf/layers) or [TensorFlow Layers (contrib)](https://www.tensorflow.org/api_guides/python/contrib.layers) packages for this layer. For more of a challenge, only use other TensorFlow packages."
   ]
  },
  {
   "cell_type": "code",
   "execution_count": 46,
   "metadata": {
    "collapsed": false,
    "deletable": true,
    "editable": true
   },
   "outputs": [
    {
     "name": "stdout",
     "output_type": "stream",
     "text": [
      "Tests Passed\n"
     ]
    }
   ],
   "source": [
    "def fully_conn(x_tensor, num_outputs):\n",
    "    \"\"\"\n",
    "    Apply a fully connected layer to x_tensor using weight and bias\n",
    "    : x_tensor: A 2-D tensor where the first dimension is batch size.\n",
    "    : num_outputs: The number of output that the new tensor should be.\n",
    "    : return: A 2-D tensor where the second dimension is num_outputs.\n",
    "    \"\"\"\n",
    "    # TODO: Implement Function\n",
    "    weights = tf.Variable(tf.random_normal(shape=(int(x_tensor.shape[1]), num_outputs), stddev=0.1))\n",
    "\n",
    "    bias = tf.Variable(tf.zeros(num_outputs))\n",
    "\n",
    "    f_layer = tf.add(tf.matmul(x_tensor, weights),bias)\n",
    "\n",
    "    f_layer = tf.nn.relu(f_layer)\n",
    "\n",
    "    return f_layer\n",
    "\n",
    "\n",
    "\"\"\"\n",
    "DON'T MODIFY ANYTHING IN THIS CELL THAT IS BELOW THIS LINE\n",
    "\"\"\"\n",
    "tests.test_fully_conn(fully_conn)"
   ]
  },
  {
   "cell_type": "markdown",
   "metadata": {
    "deletable": true,
    "editable": true
   },
   "source": [
    "### Output Layer\n",
    "Implement the `output` function to apply a fully connected layer to `x_tensor` with the shape (*Batch Size*, *num_outputs*). Shortcut option: you can use classes from the [TensorFlow Layers](https://www.tensorflow.org/api_docs/python/tf/layers) or [TensorFlow Layers (contrib)](https://www.tensorflow.org/api_guides/python/contrib.layers) packages for this layer. For more of a challenge, only use other TensorFlow packages.\n",
    "\n",
    "**Note:** Activation, softmax, or cross entropy should **not** be applied to this."
   ]
  },
  {
   "cell_type": "code",
   "execution_count": 47,
   "metadata": {
    "collapsed": false,
    "deletable": true,
    "editable": true
   },
   "outputs": [
    {
     "name": "stdout",
     "output_type": "stream",
     "text": [
      "Tests Passed\n"
     ]
    }
   ],
   "source": [
    "def output(x_tensor, num_outputs):\n",
    "    \"\"\"\n",
    "    Apply a output layer to x_tensor using weight and bias\n",
    "    : x_tensor: A 2-D tensor where the first dimension is batch size.\n",
    "    : num_outputs: The number of output that the new tensor should be.\n",
    "    : return: A 2-D tensor where the second dimension is num_outputs.\n",
    "    \"\"\"\n",
    "    # TODO: Implement Function\n",
    "    weights = tf.Variable(tf.random_normal(shape=(int(x_tensor.shape[1]), num_outputs), stddev=0.1))\n",
    "\n",
    "    bias = tf.Variable(tf.zeros(num_outputs))\n",
    "\n",
    "    op_layer = tf.add(tf.matmul(x_tensor, weights),bias)\n",
    "    \n",
    "    return op_layer\n",
    "\n",
    "\n",
    "\"\"\"\n",
    "DON'T MODIFY ANYTHING IN THIS CELL THAT IS BELOW THIS LINE\n",
    "\"\"\"\n",
    "tests.test_output(output)"
   ]
  },
  {
   "cell_type": "markdown",
   "metadata": {
    "deletable": true,
    "editable": true
   },
   "source": [
    "### Create Convolutional Model\n",
    "Implement the function `conv_net` to create a convolutional neural network model. The function takes in a batch of images, `x`, and outputs logits.  Use the layers you created above to create this model:\n",
    "\n",
    "* Apply 1, 2, or 3 Convolution and Max Pool layers\n",
    "* Apply a Flatten Layer\n",
    "* Apply 1, 2, or 3 Fully Connected Layers\n",
    "* Apply an Output Layer\n",
    "* Return the output\n",
    "* Apply [TensorFlow's Dropout](https://www.tensorflow.org/api_docs/python/tf/nn/dropout) to one or more layers in the model using `keep_prob`. "
   ]
  },
  {
   "cell_type": "code",
   "execution_count": 48,
   "metadata": {
    "collapsed": false,
    "deletable": true,
    "editable": true
   },
   "outputs": [
    {
     "name": "stdout",
     "output_type": "stream",
     "text": [
      "Neural Network Built!\n"
     ]
    }
   ],
   "source": [
    "def conv_net(x, keep_prob):\n",
    "    \"\"\"\n",
    "    Create a convolutional neural network model\n",
    "    : x: Placeholder tensor that holds image data.\n",
    "    : keep_prob: Placeholder tensor that hold dropout keep probability.\n",
    "    : return: Tensor that represents logits\n",
    "    \"\"\"\n",
    "    # TODO: Apply 1, 2, or 3 Convolution and Max Pool layers\n",
    "    #    Play around with different number of outputs, kernel size and stride\n",
    "    # Function Definition from Above:\n",
    "    #    conv2d_maxpool(x_tensor, conv_num_outputs, conv_ksize, conv_strides, pool_ksize, pool_strides)\n",
    "    \n",
    "    c_layer_1 = conv2d_maxpool(x, 32, (3, 3), (1, 1), (2, 2), (2, 2))\n",
    "    c_layer_2 = conv2d_maxpool(x, 64, (3, 3), (2, 2), (2, 2), (2, 2))\n",
    "    c_layer_3 = conv2d_maxpool(x, 64, (3, 3), (1, 1), (2, 2), (2, 2))\n",
    "    \n",
    "\n",
    "    # TODO: Apply a Flatten Layer\n",
    "    # Function Definition from Above:\n",
    "    #   flatten(x_tensor)\n",
    "    flattened_layer = flatten(c_layer_3)\n",
    "\n",
    "    # TODO: Apply 1, 2, or 3 Fully Connected Layers\n",
    "    #    Play around with different number of outputs\n",
    "    # Function Definition from Above:\n",
    "    #   fully_conn(x_tensor, num_outputs)\n",
    "    f_layer_1 = fully_conn(flattened_layer, 256)\n",
    "    f_layer_1 = tf.nn.dropout(f_layer_1, keep_prob)\n",
    "    \n",
    "    f_layer_2 = fully_conn(f_layer_1, 128)\n",
    "    f_layer_2 = tf.nn.dropout(f_layer_2, keep_prob)\n",
    "    \n",
    "    f_layer_3 = fully_conn(f_layer_2, 128)\n",
    "    f_layer_3 = tf.nn.dropout(f_layer_3, keep_prob)    \n",
    "        \n",
    "    # TODO: Apply an Output Layer\n",
    "    #    Set this to the number of classes\n",
    "    # Function Definition from Above:\n",
    "    #   output(x_tensor, num_outputs)\n",
    "    op_layer = output(f_layer_3, 10)\n",
    "    \n",
    "    # TODO: return output\n",
    "    return op_layer\n",
    "\n",
    "\n",
    "\"\"\"\n",
    "DON'T MODIFY ANYTHING IN THIS CELL THAT IS BELOW THIS LINE\n",
    "\"\"\"\n",
    "\n",
    "##############################\n",
    "## Build the Neural Network ##\n",
    "##############################\n",
    "\n",
    "# Remove previous weights, bias, inputs, etc..\n",
    "tf.reset_default_graph()\n",
    "\n",
    "# Inputs\n",
    "x = neural_net_image_input((32, 32, 3))\n",
    "y = neural_net_label_input(10)\n",
    "keep_prob = neural_net_keep_prob_input()\n",
    "\n",
    "# Model\n",
    "logits = conv_net(x, keep_prob)\n",
    "\n",
    "# Name logits Tensor, so that is can be loaded from disk after training\n",
    "logits = tf.identity(logits, name='logits')\n",
    "\n",
    "# Loss and Optimizer\n",
    "cost = tf.reduce_mean(tf.nn.softmax_cross_entropy_with_logits(logits=logits, labels=y))\n",
    "optimizer = tf.train.AdamOptimizer().minimize(cost)\n",
    "\n",
    "# Accuracy\n",
    "correct_pred = tf.equal(tf.argmax(logits, 1), tf.argmax(y, 1))\n",
    "accuracy = tf.reduce_mean(tf.cast(correct_pred, tf.float32), name='accuracy')\n",
    "\n",
    "tests.test_conv_net(conv_net)"
   ]
  },
  {
   "cell_type": "markdown",
   "metadata": {
    "deletable": true,
    "editable": true
   },
   "source": [
    "## Train the Neural Network\n",
    "### Single Optimization\n",
    "Implement the function `train_neural_network` to do a single optimization.  The optimization should use `optimizer` to optimize in `session` with a `feed_dict` of the following:\n",
    "* `x` for image input\n",
    "* `y` for labels\n",
    "* `keep_prob` for keep probability for dropout\n",
    "\n",
    "This function will be called for each batch, so `tf.global_variables_initializer()` has already been called.\n",
    "\n",
    "Note: Nothing needs to be returned. This function is only optimizing the neural network."
   ]
  },
  {
   "cell_type": "code",
   "execution_count": 49,
   "metadata": {
    "collapsed": false,
    "deletable": true,
    "editable": true
   },
   "outputs": [
    {
     "name": "stdout",
     "output_type": "stream",
     "text": [
      "Tests Passed\n"
     ]
    }
   ],
   "source": [
    "def train_neural_network(session, optimizer, keep_probability, feature_batch, label_batch):\n",
    "    \"\"\"\n",
    "    Optimize the session on a batch of images and labels\n",
    "    : session: Current TensorFlow session\n",
    "    : optimizer: TensorFlow optimizer function\n",
    "    : keep_probability: keep probability\n",
    "    : feature_batch: Batch of Numpy image data\n",
    "    : label_batch: Batch of Numpy label data\n",
    "    \"\"\"\n",
    "    # TODO: Implement Function\n",
    "    session.run(optimizer, feed_dict={x: feature_batch, y: label_batch, keep_prob: keep_probability})\n",
    "\n",
    "\n",
    "\"\"\"\n",
    "DON'T MODIFY ANYTHING IN THIS CELL THAT IS BELOW THIS LINE\n",
    "\"\"\"\n",
    "tests.test_train_nn(train_neural_network)"
   ]
  },
  {
   "cell_type": "markdown",
   "metadata": {
    "deletable": true,
    "editable": true
   },
   "source": [
    "### Show Stats\n",
    "Implement the function `print_stats` to print loss and validation accuracy.  Use the global variables `valid_features` and `valid_labels` to calculate validation accuracy.  Use a keep probability of `1.0` to calculate the loss and validation accuracy."
   ]
  },
  {
   "cell_type": "code",
   "execution_count": 50,
   "metadata": {
    "collapsed": false,
    "deletable": true,
    "editable": true
   },
   "outputs": [],
   "source": [
    "def print_stats(session, feature_batch, label_batch, cost, accuracy):\n",
    "    \"\"\"\n",
    "    Print information about loss and validation accuracy\n",
    "    : session: Current TensorFlow session\n",
    "    : feature_batch: Batch of Numpy image data\n",
    "    : label_batch: Batch of Numpy label data\n",
    "    : cost: TensorFlow cost function\n",
    "    : accuracy: TensorFlow accuracy function\n",
    "    \"\"\"\n",
    "    # TODO: Implement Function\n",
    "    loss = session.run(cost, feed_dict={x: feature_batch, y: label_batch, keep_prob: 1.0})\n",
    "    \n",
    "    validation_accuracy = session.run(accuracy, feed_dict={x: valid_features, y: valid_labels, keep_prob: 1.0})\n",
    "\n",
    "    print('Loss: {:.4f} Validation Accuracy: {:.6f}'.format(loss, validation_accuracy))\n"
   ]
  },
  {
   "cell_type": "markdown",
   "metadata": {
    "deletable": true,
    "editable": true
   },
   "source": [
    "### Hyperparameters\n",
    "Tune the following parameters:\n",
    "* Set `epochs` to the number of iterations until the network stops learning or start overfitting\n",
    "* Set `batch_size` to the highest number that your machine has memory for.  Most people set them to common sizes of memory:\n",
    " * 64\n",
    " * 128\n",
    " * 256\n",
    " * ...\n",
    "* Set `keep_probability` to the probability of keeping a node using dropout"
   ]
  },
  {
   "cell_type": "code",
   "execution_count": 53,
   "metadata": {
    "collapsed": true,
    "deletable": true,
    "editable": true
   },
   "outputs": [],
   "source": [
    "# TODO: Tune Parameters\n",
    "epochs = 50\n",
    "batch_size = 256\n",
    "keep_probability = 0.6"
   ]
  },
  {
   "cell_type": "markdown",
   "metadata": {
    "deletable": true,
    "editable": true
   },
   "source": [
    "### Train on a Single CIFAR-10 Batch\n",
    "Instead of training the neural network on all the CIFAR-10 batches of data, let's use a single batch. This should save time while you iterate on the model to get a better accuracy.  Once the final validation accuracy is 50% or greater, run the model on all the data in the next section."
   ]
  },
  {
   "cell_type": "code",
   "execution_count": 54,
   "metadata": {
    "collapsed": false,
    "deletable": true,
    "editable": true
   },
   "outputs": [
    {
     "name": "stdout",
     "output_type": "stream",
     "text": [
      "Checking the Training on a Single Batch...\n",
      "Epoch  1, CIFAR-10 Batch 1:  Loss: 2.3016 Validation Accuracy: 0.165400\n",
      "Epoch  2, CIFAR-10 Batch 1:  Loss: 2.2770 Validation Accuracy: 0.180200\n",
      "Epoch  3, CIFAR-10 Batch 1:  Loss: 2.2394 Validation Accuracy: 0.244600\n",
      "Epoch  4, CIFAR-10 Batch 1:  Loss: 2.1720 Validation Accuracy: 0.276800\n",
      "Epoch  5, CIFAR-10 Batch 1:  Loss: 2.0471 Validation Accuracy: 0.314800\n",
      "Epoch  6, CIFAR-10 Batch 1:  Loss: 1.9426 Validation Accuracy: 0.325400\n",
      "Epoch  7, CIFAR-10 Batch 1:  Loss: 1.8626 Validation Accuracy: 0.355800\n",
      "Epoch  8, CIFAR-10 Batch 1:  Loss: 1.7599 Validation Accuracy: 0.378400\n",
      "Epoch  9, CIFAR-10 Batch 1:  Loss: 1.6638 Validation Accuracy: 0.396000\n",
      "Epoch 10, CIFAR-10 Batch 1:  Loss: 1.5708 Validation Accuracy: 0.410800\n",
      "Epoch 11, CIFAR-10 Batch 1:  Loss: 1.4905 Validation Accuracy: 0.422400\n",
      "Epoch 12, CIFAR-10 Batch 1:  Loss: 1.3510 Validation Accuracy: 0.426000\n",
      "Epoch 13, CIFAR-10 Batch 1:  Loss: 1.2717 Validation Accuracy: 0.416400\n",
      "Epoch 14, CIFAR-10 Batch 1:  Loss: 1.1641 Validation Accuracy: 0.449000\n",
      "Epoch 15, CIFAR-10 Batch 1:  Loss: 1.1871 Validation Accuracy: 0.430400\n",
      "Epoch 16, CIFAR-10 Batch 1:  Loss: 1.0111 Validation Accuracy: 0.448000\n",
      "Epoch 17, CIFAR-10 Batch 1:  Loss: 0.9667 Validation Accuracy: 0.450800\n",
      "Epoch 18, CIFAR-10 Batch 1:  Loss: 0.9195 Validation Accuracy: 0.469600\n",
      "Epoch 19, CIFAR-10 Batch 1:  Loss: 0.8288 Validation Accuracy: 0.469400\n",
      "Epoch 20, CIFAR-10 Batch 1:  Loss: 0.7818 Validation Accuracy: 0.479800\n",
      "Epoch 21, CIFAR-10 Batch 1:  Loss: 0.7760 Validation Accuracy: 0.471200\n",
      "Epoch 22, CIFAR-10 Batch 1:  Loss: 0.7222 Validation Accuracy: 0.499600\n",
      "Epoch 23, CIFAR-10 Batch 1:  Loss: 0.7303 Validation Accuracy: 0.491400\n",
      "Epoch 24, CIFAR-10 Batch 1:  Loss: 0.6674 Validation Accuracy: 0.485200\n",
      "Epoch 25, CIFAR-10 Batch 1:  Loss: 0.6760 Validation Accuracy: 0.488600\n",
      "Epoch 26, CIFAR-10 Batch 1:  Loss: 0.6834 Validation Accuracy: 0.501200\n",
      "Epoch 27, CIFAR-10 Batch 1:  Loss: 0.6174 Validation Accuracy: 0.500000\n",
      "Epoch 28, CIFAR-10 Batch 1:  Loss: 0.5930 Validation Accuracy: 0.500200\n",
      "Epoch 29, CIFAR-10 Batch 1:  Loss: 0.5816 Validation Accuracy: 0.501800\n",
      "Epoch 30, CIFAR-10 Batch 1:  Loss: 0.4976 Validation Accuracy: 0.503800\n",
      "Epoch 31, CIFAR-10 Batch 1:  Loss: 0.4956 Validation Accuracy: 0.515800\n",
      "Epoch 32, CIFAR-10 Batch 1:  Loss: 0.5197 Validation Accuracy: 0.504600\n",
      "Epoch 33, CIFAR-10 Batch 1:  Loss: 0.4826 Validation Accuracy: 0.513200\n",
      "Epoch 34, CIFAR-10 Batch 1:  Loss: 0.5089 Validation Accuracy: 0.500000\n",
      "Epoch 35, CIFAR-10 Batch 1:  Loss: 0.4776 Validation Accuracy: 0.506400\n",
      "Epoch 36, CIFAR-10 Batch 1:  Loss: 0.4684 Validation Accuracy: 0.517000\n",
      "Epoch 37, CIFAR-10 Batch 1:  Loss: 0.4283 Validation Accuracy: 0.516600\n",
      "Epoch 38, CIFAR-10 Batch 1:  Loss: 0.4000 Validation Accuracy: 0.509000\n",
      "Epoch 39, CIFAR-10 Batch 1:  Loss: 0.3915 Validation Accuracy: 0.511000\n",
      "Epoch 40, CIFAR-10 Batch 1:  Loss: 0.3816 Validation Accuracy: 0.524000\n",
      "Epoch 41, CIFAR-10 Batch 1:  Loss: 0.3986 Validation Accuracy: 0.517000\n",
      "Epoch 42, CIFAR-10 Batch 1:  Loss: 0.3602 Validation Accuracy: 0.518800\n",
      "Epoch 43, CIFAR-10 Batch 1:  Loss: 0.3613 Validation Accuracy: 0.527800\n",
      "Epoch 44, CIFAR-10 Batch 1:  Loss: 0.3364 Validation Accuracy: 0.528800\n",
      "Epoch 45, CIFAR-10 Batch 1:  Loss: 0.3252 Validation Accuracy: 0.537600\n",
      "Epoch 46, CIFAR-10 Batch 1:  Loss: 0.3021 Validation Accuracy: 0.530800\n",
      "Epoch 47, CIFAR-10 Batch 1:  Loss: 0.3203 Validation Accuracy: 0.509800\n",
      "Epoch 48, CIFAR-10 Batch 1:  Loss: 0.3708 Validation Accuracy: 0.520000\n",
      "Epoch 49, CIFAR-10 Batch 1:  Loss: 0.3107 Validation Accuracy: 0.527400\n",
      "Epoch 50, CIFAR-10 Batch 1:  Loss: 0.2858 Validation Accuracy: 0.518200\n"
     ]
    }
   ],
   "source": [
    "\"\"\"\n",
    "DON'T MODIFY ANYTHING IN THIS CELL\n",
    "\"\"\"\n",
    "print('Checking the Training on a Single Batch...')\n",
    "with tf.Session() as sess:\n",
    "    # Initializing the variables\n",
    "    sess.run(tf.global_variables_initializer())\n",
    "    \n",
    "    # Training cycle\n",
    "    for epoch in range(epochs):\n",
    "        batch_i = 1\n",
    "        for batch_features, batch_labels in helper.load_preprocess_training_batch(batch_i, batch_size):\n",
    "            train_neural_network(sess, optimizer, keep_probability, batch_features, batch_labels)\n",
    "        print('Epoch {:>2}, CIFAR-10 Batch {}:  '.format(epoch + 1, batch_i), end='')\n",
    "        print_stats(sess, batch_features, batch_labels, cost, accuracy)"
   ]
  },
  {
   "cell_type": "markdown",
   "metadata": {
    "deletable": true,
    "editable": true
   },
   "source": [
    "### Fully Train the Model\n",
    "Now that you got a good accuracy with a single CIFAR-10 batch, try it with all five batches."
   ]
  },
  {
   "cell_type": "code",
   "execution_count": 55,
   "metadata": {
    "collapsed": false,
    "deletable": true,
    "editable": true
   },
   "outputs": [
    {
     "name": "stdout",
     "output_type": "stream",
     "text": [
      "Training...\n",
      "Epoch  1, CIFAR-10 Batch 1:  Loss: 2.2736 Validation Accuracy: 0.177000\n",
      "Epoch  1, CIFAR-10 Batch 2:  Loss: 2.1397 Validation Accuracy: 0.220600\n",
      "Epoch  1, CIFAR-10 Batch 3:  Loss: 1.9087 Validation Accuracy: 0.278400\n",
      "Epoch  1, CIFAR-10 Batch 4:  Loss: 1.9209 Validation Accuracy: 0.293800\n",
      "Epoch  1, CIFAR-10 Batch 5:  Loss: 1.8846 Validation Accuracy: 0.310000\n",
      "Epoch  2, CIFAR-10 Batch 1:  Loss: 1.9932 Validation Accuracy: 0.341600\n",
      "Epoch  2, CIFAR-10 Batch 2:  Loss: 1.7641 Validation Accuracy: 0.320000\n",
      "Epoch  2, CIFAR-10 Batch 3:  Loss: 1.5584 Validation Accuracy: 0.356600\n",
      "Epoch  2, CIFAR-10 Batch 4:  Loss: 1.6624 Validation Accuracy: 0.373800\n",
      "Epoch  2, CIFAR-10 Batch 5:  Loss: 1.6885 Validation Accuracy: 0.375800\n",
      "Epoch  3, CIFAR-10 Batch 1:  Loss: 1.7699 Validation Accuracy: 0.391400\n",
      "Epoch  3, CIFAR-10 Batch 2:  Loss: 1.6392 Validation Accuracy: 0.409400\n",
      "Epoch  3, CIFAR-10 Batch 3:  Loss: 1.3702 Validation Accuracy: 0.427400\n",
      "Epoch  3, CIFAR-10 Batch 4:  Loss: 1.5055 Validation Accuracy: 0.436800\n",
      "Epoch  3, CIFAR-10 Batch 5:  Loss: 1.4940 Validation Accuracy: 0.431200\n",
      "Epoch  4, CIFAR-10 Batch 1:  Loss: 1.6651 Validation Accuracy: 0.446800\n",
      "Epoch  4, CIFAR-10 Batch 2:  Loss: 1.3994 Validation Accuracy: 0.460400\n",
      "Epoch  4, CIFAR-10 Batch 3:  Loss: 1.2281 Validation Accuracy: 0.458200\n",
      "Epoch  4, CIFAR-10 Batch 4:  Loss: 1.3721 Validation Accuracy: 0.479000\n",
      "Epoch  4, CIFAR-10 Batch 5:  Loss: 1.3947 Validation Accuracy: 0.472800\n",
      "Epoch  5, CIFAR-10 Batch 1:  Loss: 1.4561 Validation Accuracy: 0.493400\n",
      "Epoch  5, CIFAR-10 Batch 2:  Loss: 1.2393 Validation Accuracy: 0.491000\n",
      "Epoch  5, CIFAR-10 Batch 3:  Loss: 1.1375 Validation Accuracy: 0.500800\n",
      "Epoch  5, CIFAR-10 Batch 4:  Loss: 1.2941 Validation Accuracy: 0.501000\n",
      "Epoch  5, CIFAR-10 Batch 5:  Loss: 1.2626 Validation Accuracy: 0.513000\n",
      "Epoch  6, CIFAR-10 Batch 1:  Loss: 1.3542 Validation Accuracy: 0.520800\n",
      "Epoch  6, CIFAR-10 Batch 2:  Loss: 1.0945 Validation Accuracy: 0.511200\n",
      "Epoch  6, CIFAR-10 Batch 3:  Loss: 1.0782 Validation Accuracy: 0.515000\n",
      "Epoch  6, CIFAR-10 Batch 4:  Loss: 1.1397 Validation Accuracy: 0.536400\n",
      "Epoch  6, CIFAR-10 Batch 5:  Loss: 1.1410 Validation Accuracy: 0.537400\n",
      "Epoch  7, CIFAR-10 Batch 1:  Loss: 1.2075 Validation Accuracy: 0.542400\n",
      "Epoch  7, CIFAR-10 Batch 2:  Loss: 1.0028 Validation Accuracy: 0.521000\n",
      "Epoch  7, CIFAR-10 Batch 3:  Loss: 0.9388 Validation Accuracy: 0.540600\n",
      "Epoch  7, CIFAR-10 Batch 4:  Loss: 1.0496 Validation Accuracy: 0.551400\n",
      "Epoch  7, CIFAR-10 Batch 5:  Loss: 1.0841 Validation Accuracy: 0.548600\n",
      "Epoch  8, CIFAR-10 Batch 1:  Loss: 1.0914 Validation Accuracy: 0.559000\n",
      "Epoch  8, CIFAR-10 Batch 2:  Loss: 0.9241 Validation Accuracy: 0.537800\n",
      "Epoch  8, CIFAR-10 Batch 3:  Loss: 0.8642 Validation Accuracy: 0.557600\n",
      "Epoch  8, CIFAR-10 Batch 4:  Loss: 0.9996 Validation Accuracy: 0.565800\n",
      "Epoch  8, CIFAR-10 Batch 5:  Loss: 0.9580 Validation Accuracy: 0.563800\n",
      "Epoch  9, CIFAR-10 Batch 1:  Loss: 0.9838 Validation Accuracy: 0.556400\n",
      "Epoch  9, CIFAR-10 Batch 2:  Loss: 0.8584 Validation Accuracy: 0.564000\n",
      "Epoch  9, CIFAR-10 Batch 3:  Loss: 0.7601 Validation Accuracy: 0.584200\n",
      "Epoch  9, CIFAR-10 Batch 4:  Loss: 0.9442 Validation Accuracy: 0.580600\n",
      "Epoch  9, CIFAR-10 Batch 5:  Loss: 0.9029 Validation Accuracy: 0.584400\n",
      "Epoch 10, CIFAR-10 Batch 1:  Loss: 0.9216 Validation Accuracy: 0.585200\n",
      "Epoch 10, CIFAR-10 Batch 2:  Loss: 0.8304 Validation Accuracy: 0.577000\n",
      "Epoch 10, CIFAR-10 Batch 3:  Loss: 0.6997 Validation Accuracy: 0.577000\n",
      "Epoch 10, CIFAR-10 Batch 4:  Loss: 0.9275 Validation Accuracy: 0.582200\n",
      "Epoch 10, CIFAR-10 Batch 5:  Loss: 0.7715 Validation Accuracy: 0.577600\n",
      "Epoch 11, CIFAR-10 Batch 1:  Loss: 0.8677 Validation Accuracy: 0.583200\n",
      "Epoch 11, CIFAR-10 Batch 2:  Loss: 0.7497 Validation Accuracy: 0.584200\n",
      "Epoch 11, CIFAR-10 Batch 3:  Loss: 0.6876 Validation Accuracy: 0.582400\n",
      "Epoch 11, CIFAR-10 Batch 4:  Loss: 0.8434 Validation Accuracy: 0.585000\n",
      "Epoch 11, CIFAR-10 Batch 5:  Loss: 0.7576 Validation Accuracy: 0.586600\n",
      "Epoch 12, CIFAR-10 Batch 1:  Loss: 0.8242 Validation Accuracy: 0.590400\n",
      "Epoch 12, CIFAR-10 Batch 2:  Loss: 0.6780 Validation Accuracy: 0.592400\n",
      "Epoch 12, CIFAR-10 Batch 3:  Loss: 0.5876 Validation Accuracy: 0.595400\n",
      "Epoch 12, CIFAR-10 Batch 4:  Loss: 0.7911 Validation Accuracy: 0.604800\n",
      "Epoch 12, CIFAR-10 Batch 5:  Loss: 0.6877 Validation Accuracy: 0.598400\n",
      "Epoch 13, CIFAR-10 Batch 1:  Loss: 0.8184 Validation Accuracy: 0.600400\n",
      "Epoch 13, CIFAR-10 Batch 2:  Loss: 0.6359 Validation Accuracy: 0.592400\n",
      "Epoch 13, CIFAR-10 Batch 3:  Loss: 0.5168 Validation Accuracy: 0.603400\n",
      "Epoch 13, CIFAR-10 Batch 4:  Loss: 0.7339 Validation Accuracy: 0.599800\n",
      "Epoch 13, CIFAR-10 Batch 5:  Loss: 0.6581 Validation Accuracy: 0.603800\n",
      "Epoch 14, CIFAR-10 Batch 1:  Loss: 0.7685 Validation Accuracy: 0.587200\n",
      "Epoch 14, CIFAR-10 Batch 2:  Loss: 0.6814 Validation Accuracy: 0.594800\n",
      "Epoch 14, CIFAR-10 Batch 3:  Loss: 0.4916 Validation Accuracy: 0.603400\n",
      "Epoch 14, CIFAR-10 Batch 4:  Loss: 0.6961 Validation Accuracy: 0.600000\n",
      "Epoch 14, CIFAR-10 Batch 5:  Loss: 0.5947 Validation Accuracy: 0.614600\n",
      "Epoch 15, CIFAR-10 Batch 1:  Loss: 0.7054 Validation Accuracy: 0.612200\n",
      "Epoch 15, CIFAR-10 Batch 2:  Loss: 0.6184 Validation Accuracy: 0.593400\n",
      "Epoch 15, CIFAR-10 Batch 3:  Loss: 0.4908 Validation Accuracy: 0.604600\n",
      "Epoch 15, CIFAR-10 Batch 4:  Loss: 0.6601 Validation Accuracy: 0.607600\n",
      "Epoch 15, CIFAR-10 Batch 5:  Loss: 0.5641 Validation Accuracy: 0.604600\n",
      "Epoch 16, CIFAR-10 Batch 1:  Loss: 0.6643 Validation Accuracy: 0.606000\n",
      "Epoch 16, CIFAR-10 Batch 2:  Loss: 0.5948 Validation Accuracy: 0.609400\n",
      "Epoch 16, CIFAR-10 Batch 3:  Loss: 0.4675 Validation Accuracy: 0.603400\n",
      "Epoch 16, CIFAR-10 Batch 4:  Loss: 0.6663 Validation Accuracy: 0.600200\n",
      "Epoch 16, CIFAR-10 Batch 5:  Loss: 0.5025 Validation Accuracy: 0.618600\n",
      "Epoch 17, CIFAR-10 Batch 1:  Loss: 0.6456 Validation Accuracy: 0.615800\n",
      "Epoch 17, CIFAR-10 Batch 2:  Loss: 0.5641 Validation Accuracy: 0.605000\n",
      "Epoch 17, CIFAR-10 Batch 3:  Loss: 0.4006 Validation Accuracy: 0.598400\n",
      "Epoch 17, CIFAR-10 Batch 4:  Loss: 0.5517 Validation Accuracy: 0.616800\n",
      "Epoch 17, CIFAR-10 Batch 5:  Loss: 0.5156 Validation Accuracy: 0.615000\n",
      "Epoch 18, CIFAR-10 Batch 1:  Loss: 0.6000 Validation Accuracy: 0.607600\n",
      "Epoch 18, CIFAR-10 Batch 2:  Loss: 0.4828 Validation Accuracy: 0.613600\n",
      "Epoch 18, CIFAR-10 Batch 3:  Loss: 0.3944 Validation Accuracy: 0.613400\n",
      "Epoch 18, CIFAR-10 Batch 4:  Loss: 0.5724 Validation Accuracy: 0.615800\n",
      "Epoch 18, CIFAR-10 Batch 5:  Loss: 0.4637 Validation Accuracy: 0.615000\n",
      "Epoch 19, CIFAR-10 Batch 1:  Loss: 0.5477 Validation Accuracy: 0.619800\n",
      "Epoch 19, CIFAR-10 Batch 2:  Loss: 0.4847 Validation Accuracy: 0.618800\n",
      "Epoch 19, CIFAR-10 Batch 3:  Loss: 0.3250 Validation Accuracy: 0.616000\n",
      "Epoch 19, CIFAR-10 Batch 4:  Loss: 0.5215 Validation Accuracy: 0.623800\n",
      "Epoch 19, CIFAR-10 Batch 5:  Loss: 0.4632 Validation Accuracy: 0.623800\n",
      "Epoch 20, CIFAR-10 Batch 1:  Loss: 0.5199 Validation Accuracy: 0.621000\n",
      "Epoch 20, CIFAR-10 Batch 2:  Loss: 0.4925 Validation Accuracy: 0.616000\n",
      "Epoch 20, CIFAR-10 Batch 3:  Loss: 0.3319 Validation Accuracy: 0.603600\n",
      "Epoch 20, CIFAR-10 Batch 4:  Loss: 0.5271 Validation Accuracy: 0.618800\n",
      "Epoch 20, CIFAR-10 Batch 5:  Loss: 0.4090 Validation Accuracy: 0.624200\n",
      "Epoch 21, CIFAR-10 Batch 1:  Loss: 0.4891 Validation Accuracy: 0.633400\n",
      "Epoch 21, CIFAR-10 Batch 2:  Loss: 0.4684 Validation Accuracy: 0.612800\n",
      "Epoch 21, CIFAR-10 Batch 3:  Loss: 0.3134 Validation Accuracy: 0.615600\n",
      "Epoch 21, CIFAR-10 Batch 4:  Loss: 0.4810 Validation Accuracy: 0.620800\n",
      "Epoch 21, CIFAR-10 Batch 5:  Loss: 0.4352 Validation Accuracy: 0.629400\n",
      "Epoch 22, CIFAR-10 Batch 1:  Loss: 0.4978 Validation Accuracy: 0.623800\n",
      "Epoch 22, CIFAR-10 Batch 2:  Loss: 0.4478 Validation Accuracy: 0.605200\n",
      "Epoch 22, CIFAR-10 Batch 3:  Loss: 0.3225 Validation Accuracy: 0.605800\n",
      "Epoch 22, CIFAR-10 Batch 4:  Loss: 0.4969 Validation Accuracy: 0.617400\n",
      "Epoch 22, CIFAR-10 Batch 5:  Loss: 0.4342 Validation Accuracy: 0.626200\n",
      "Epoch 23, CIFAR-10 Batch 1:  Loss: 0.4603 Validation Accuracy: 0.624600\n",
      "Epoch 23, CIFAR-10 Batch 2:  Loss: 0.4271 Validation Accuracy: 0.615400\n",
      "Epoch 23, CIFAR-10 Batch 3:  Loss: 0.2878 Validation Accuracy: 0.625600\n",
      "Epoch 23, CIFAR-10 Batch 4:  Loss: 0.4324 Validation Accuracy: 0.628000\n",
      "Epoch 23, CIFAR-10 Batch 5:  Loss: 0.4222 Validation Accuracy: 0.627200\n",
      "Epoch 24, CIFAR-10 Batch 1:  Loss: 0.4608 Validation Accuracy: 0.632400\n",
      "Epoch 24, CIFAR-10 Batch 2:  Loss: 0.4332 Validation Accuracy: 0.607600\n",
      "Epoch 24, CIFAR-10 Batch 3:  Loss: 0.3339 Validation Accuracy: 0.606000\n",
      "Epoch 24, CIFAR-10 Batch 4:  Loss: 0.4172 Validation Accuracy: 0.625400\n",
      "Epoch 24, CIFAR-10 Batch 5:  Loss: 0.3395 Validation Accuracy: 0.625800\n",
      "Epoch 25, CIFAR-10 Batch 1:  Loss: 0.5006 Validation Accuracy: 0.626800\n",
      "Epoch 25, CIFAR-10 Batch 2:  Loss: 0.4077 Validation Accuracy: 0.604200\n",
      "Epoch 25, CIFAR-10 Batch 3:  Loss: 0.2675 Validation Accuracy: 0.613800\n",
      "Epoch 25, CIFAR-10 Batch 4:  Loss: 0.3971 Validation Accuracy: 0.626000\n",
      "Epoch 25, CIFAR-10 Batch 5:  Loss: 0.3942 Validation Accuracy: 0.624400\n",
      "Epoch 26, CIFAR-10 Batch 1:  Loss: 0.4740 Validation Accuracy: 0.623200\n",
      "Epoch 26, CIFAR-10 Batch 2:  Loss: 0.3799 Validation Accuracy: 0.622800\n",
      "Epoch 26, CIFAR-10 Batch 3:  Loss: 0.2474 Validation Accuracy: 0.620800\n",
      "Epoch 26, CIFAR-10 Batch 4:  Loss: 0.4075 Validation Accuracy: 0.630200\n",
      "Epoch 26, CIFAR-10 Batch 5:  Loss: 0.3865 Validation Accuracy: 0.624200\n",
      "Epoch 27, CIFAR-10 Batch 1:  Loss: 0.4469 Validation Accuracy: 0.629000\n",
      "Epoch 27, CIFAR-10 Batch 2:  Loss: 0.4133 Validation Accuracy: 0.613400\n",
      "Epoch 27, CIFAR-10 Batch 3:  Loss: 0.2285 Validation Accuracy: 0.628600\n",
      "Epoch 27, CIFAR-10 Batch 4:  Loss: 0.3676 Validation Accuracy: 0.624200\n",
      "Epoch 27, CIFAR-10 Batch 5:  Loss: 0.3298 Validation Accuracy: 0.633400\n",
      "Epoch 28, CIFAR-10 Batch 1:  Loss: 0.4602 Validation Accuracy: 0.621400\n",
      "Epoch 28, CIFAR-10 Batch 2:  Loss: 0.3447 Validation Accuracy: 0.615800\n",
      "Epoch 28, CIFAR-10 Batch 3:  Loss: 0.2572 Validation Accuracy: 0.625000\n",
      "Epoch 28, CIFAR-10 Batch 4:  Loss: 0.3696 Validation Accuracy: 0.620200\n",
      "Epoch 28, CIFAR-10 Batch 5:  Loss: 0.3187 Validation Accuracy: 0.628400\n",
      "Epoch 29, CIFAR-10 Batch 1:  Loss: 0.4168 Validation Accuracy: 0.632600\n",
      "Epoch 29, CIFAR-10 Batch 2:  Loss: 0.3734 Validation Accuracy: 0.609000\n",
      "Epoch 29, CIFAR-10 Batch 3:  Loss: 0.2045 Validation Accuracy: 0.629800\n",
      "Epoch 29, CIFAR-10 Batch 4:  Loss: 0.3545 Validation Accuracy: 0.630600\n",
      "Epoch 29, CIFAR-10 Batch 5:  Loss: 0.3165 Validation Accuracy: 0.632800\n",
      "Epoch 30, CIFAR-10 Batch 1:  Loss: 0.3715 Validation Accuracy: 0.635600\n",
      "Epoch 30, CIFAR-10 Batch 2:  Loss: 0.3275 Validation Accuracy: 0.619800\n",
      "Epoch 30, CIFAR-10 Batch 3:  Loss: 0.1981 Validation Accuracy: 0.626400\n",
      "Epoch 30, CIFAR-10 Batch 4:  Loss: 0.3177 Validation Accuracy: 0.628800\n",
      "Epoch 30, CIFAR-10 Batch 5:  Loss: 0.2982 Validation Accuracy: 0.627600\n",
      "Epoch 31, CIFAR-10 Batch 1:  Loss: 0.4076 Validation Accuracy: 0.629200\n",
      "Epoch 31, CIFAR-10 Batch 2:  Loss: 0.3681 Validation Accuracy: 0.620200\n",
      "Epoch 31, CIFAR-10 Batch 3:  Loss: 0.2036 Validation Accuracy: 0.634800\n",
      "Epoch 31, CIFAR-10 Batch 4:  Loss: 0.3382 Validation Accuracy: 0.624800\n",
      "Epoch 31, CIFAR-10 Batch 5:  Loss: 0.2898 Validation Accuracy: 0.631000\n",
      "Epoch 32, CIFAR-10 Batch 1:  Loss: 0.3881 Validation Accuracy: 0.630000\n",
      "Epoch 32, CIFAR-10 Batch 2:  Loss: 0.3445 Validation Accuracy: 0.628000\n",
      "Epoch 32, CIFAR-10 Batch 3:  Loss: 0.2088 Validation Accuracy: 0.633400\n",
      "Epoch 32, CIFAR-10 Batch 4:  Loss: 0.2935 Validation Accuracy: 0.630600\n",
      "Epoch 32, CIFAR-10 Batch 5:  Loss: 0.2809 Validation Accuracy: 0.633600\n",
      "Epoch 33, CIFAR-10 Batch 1:  Loss: 0.3503 Validation Accuracy: 0.634400\n",
      "Epoch 33, CIFAR-10 Batch 2:  Loss: 0.2984 Validation Accuracy: 0.636000\n",
      "Epoch 33, CIFAR-10 Batch 3:  Loss: 0.1942 Validation Accuracy: 0.633000\n",
      "Epoch 33, CIFAR-10 Batch 4:  Loss: 0.2893 Validation Accuracy: 0.625600\n",
      "Epoch 33, CIFAR-10 Batch 5:  Loss: 0.2407 Validation Accuracy: 0.634800\n",
      "Epoch 34, CIFAR-10 Batch 1:  Loss: 0.3349 Validation Accuracy: 0.640600\n",
      "Epoch 34, CIFAR-10 Batch 2:  Loss: 0.3102 Validation Accuracy: 0.641600\n",
      "Epoch 34, CIFAR-10 Batch 3:  Loss: 0.1980 Validation Accuracy: 0.630600\n",
      "Epoch 34, CIFAR-10 Batch 4:  Loss: 0.3217 Validation Accuracy: 0.618400\n",
      "Epoch 34, CIFAR-10 Batch 5:  Loss: 0.2652 Validation Accuracy: 0.623600\n",
      "Epoch 35, CIFAR-10 Batch 1:  Loss: 0.3590 Validation Accuracy: 0.631400\n",
      "Epoch 35, CIFAR-10 Batch 2:  Loss: 0.3192 Validation Accuracy: 0.633600\n",
      "Epoch 35, CIFAR-10 Batch 3:  Loss: 0.1824 Validation Accuracy: 0.637200\n",
      "Epoch 35, CIFAR-10 Batch 4:  Loss: 0.3139 Validation Accuracy: 0.618000\n",
      "Epoch 35, CIFAR-10 Batch 5:  Loss: 0.2785 Validation Accuracy: 0.636600\n",
      "Epoch 36, CIFAR-10 Batch 1:  Loss: 0.3521 Validation Accuracy: 0.630200\n",
      "Epoch 36, CIFAR-10 Batch 2:  Loss: 0.3075 Validation Accuracy: 0.641600\n",
      "Epoch 36, CIFAR-10 Batch 3:  Loss: 0.1687 Validation Accuracy: 0.629000\n",
      "Epoch 36, CIFAR-10 Batch 4:  Loss: 0.2649 Validation Accuracy: 0.625600\n",
      "Epoch 36, CIFAR-10 Batch 5:  Loss: 0.2339 Validation Accuracy: 0.627000\n",
      "Epoch 37, CIFAR-10 Batch 1:  Loss: 0.3569 Validation Accuracy: 0.623600\n",
      "Epoch 37, CIFAR-10 Batch 2:  Loss: 0.2724 Validation Accuracy: 0.638200\n",
      "Epoch 37, CIFAR-10 Batch 3:  Loss: 0.1759 Validation Accuracy: 0.628600\n",
      "Epoch 37, CIFAR-10 Batch 4:  Loss: 0.3017 Validation Accuracy: 0.614600\n",
      "Epoch 37, CIFAR-10 Batch 5:  Loss: 0.2197 Validation Accuracy: 0.631800\n",
      "Epoch 38, CIFAR-10 Batch 1:  Loss: 0.3498 Validation Accuracy: 0.624800\n",
      "Epoch 38, CIFAR-10 Batch 2:  Loss: 0.2694 Validation Accuracy: 0.638600\n",
      "Epoch 38, CIFAR-10 Batch 3:  Loss: 0.1593 Validation Accuracy: 0.639400\n",
      "Epoch 38, CIFAR-10 Batch 4:  Loss: 0.3077 Validation Accuracy: 0.619000\n",
      "Epoch 38, CIFAR-10 Batch 5:  Loss: 0.1859 Validation Accuracy: 0.638200\n",
      "Epoch 39, CIFAR-10 Batch 1:  Loss: 0.3503 Validation Accuracy: 0.620600\n",
      "Epoch 39, CIFAR-10 Batch 2:  Loss: 0.2624 Validation Accuracy: 0.625400\n",
      "Epoch 39, CIFAR-10 Batch 3:  Loss: 0.1539 Validation Accuracy: 0.630600\n",
      "Epoch 39, CIFAR-10 Batch 4:  Loss: 0.2590 Validation Accuracy: 0.620200\n",
      "Epoch 39, CIFAR-10 Batch 5:  Loss: 0.1944 Validation Accuracy: 0.630200\n",
      "Epoch 40, CIFAR-10 Batch 1:  Loss: 0.3314 Validation Accuracy: 0.621800\n",
      "Epoch 40, CIFAR-10 Batch 2:  Loss: 0.3067 Validation Accuracy: 0.632200\n",
      "Epoch 40, CIFAR-10 Batch 3:  Loss: 0.1549 Validation Accuracy: 0.632400\n",
      "Epoch 40, CIFAR-10 Batch 4:  Loss: 0.2537 Validation Accuracy: 0.615600\n",
      "Epoch 40, CIFAR-10 Batch 5:  Loss: 0.2139 Validation Accuracy: 0.624600\n",
      "Epoch 41, CIFAR-10 Batch 1:  Loss: 0.3175 Validation Accuracy: 0.629800\n",
      "Epoch 41, CIFAR-10 Batch 2:  Loss: 0.2993 Validation Accuracy: 0.638600\n",
      "Epoch 41, CIFAR-10 Batch 3:  Loss: 0.1687 Validation Accuracy: 0.631800\n",
      "Epoch 41, CIFAR-10 Batch 4:  Loss: 0.2735 Validation Accuracy: 0.604600\n",
      "Epoch 41, CIFAR-10 Batch 5:  Loss: 0.2010 Validation Accuracy: 0.626000\n",
      "Epoch 42, CIFAR-10 Batch 1:  Loss: 0.3220 Validation Accuracy: 0.621200\n",
      "Epoch 42, CIFAR-10 Batch 2:  Loss: 0.3118 Validation Accuracy: 0.627000\n",
      "Epoch 42, CIFAR-10 Batch 3:  Loss: 0.1362 Validation Accuracy: 0.634400\n",
      "Epoch 42, CIFAR-10 Batch 4:  Loss: 0.2605 Validation Accuracy: 0.613400\n",
      "Epoch 42, CIFAR-10 Batch 5:  Loss: 0.1830 Validation Accuracy: 0.634600\n",
      "Epoch 43, CIFAR-10 Batch 1:  Loss: 0.2949 Validation Accuracy: 0.623000\n",
      "Epoch 43, CIFAR-10 Batch 2:  Loss: 0.2616 Validation Accuracy: 0.638200\n",
      "Epoch 43, CIFAR-10 Batch 3:  Loss: 0.1548 Validation Accuracy: 0.620800\n",
      "Epoch 43, CIFAR-10 Batch 4:  Loss: 0.2283 Validation Accuracy: 0.621600\n",
      "Epoch 43, CIFAR-10 Batch 5:  Loss: 0.1970 Validation Accuracy: 0.636200\n",
      "Epoch 44, CIFAR-10 Batch 1:  Loss: 0.3368 Validation Accuracy: 0.616200\n",
      "Epoch 44, CIFAR-10 Batch 2:  Loss: 0.2564 Validation Accuracy: 0.637600\n",
      "Epoch 44, CIFAR-10 Batch 3:  Loss: 0.1416 Validation Accuracy: 0.626200\n",
      "Epoch 44, CIFAR-10 Batch 4:  Loss: 0.2335 Validation Accuracy: 0.637600\n",
      "Epoch 44, CIFAR-10 Batch 5:  Loss: 0.1815 Validation Accuracy: 0.633400\n",
      "Epoch 45, CIFAR-10 Batch 1:  Loss: 0.3264 Validation Accuracy: 0.634800\n",
      "Epoch 45, CIFAR-10 Batch 2:  Loss: 0.2348 Validation Accuracy: 0.628800\n",
      "Epoch 45, CIFAR-10 Batch 3:  Loss: 0.1460 Validation Accuracy: 0.620000\n",
      "Epoch 45, CIFAR-10 Batch 4:  Loss: 0.2442 Validation Accuracy: 0.623000\n",
      "Epoch 45, CIFAR-10 Batch 5:  Loss: 0.1891 Validation Accuracy: 0.630000\n",
      "Epoch 46, CIFAR-10 Batch 1:  Loss: 0.3178 Validation Accuracy: 0.615800\n",
      "Epoch 46, CIFAR-10 Batch 2:  Loss: 0.1994 Validation Accuracy: 0.632600\n",
      "Epoch 46, CIFAR-10 Batch 3:  Loss: 0.1612 Validation Accuracy: 0.621000\n",
      "Epoch 46, CIFAR-10 Batch 4:  Loss: 0.1910 Validation Accuracy: 0.631000\n",
      "Epoch 46, CIFAR-10 Batch 5:  Loss: 0.1621 Validation Accuracy: 0.638600\n",
      "Epoch 47, CIFAR-10 Batch 1:  Loss: 0.3163 Validation Accuracy: 0.627000\n",
      "Epoch 47, CIFAR-10 Batch 2:  Loss: 0.2050 Validation Accuracy: 0.630000\n",
      "Epoch 47, CIFAR-10 Batch 3:  Loss: 0.1357 Validation Accuracy: 0.628000\n",
      "Epoch 47, CIFAR-10 Batch 4:  Loss: 0.2143 Validation Accuracy: 0.626400\n",
      "Epoch 47, CIFAR-10 Batch 5:  Loss: 0.1565 Validation Accuracy: 0.636400\n",
      "Epoch 48, CIFAR-10 Batch 1:  Loss: 0.2833 Validation Accuracy: 0.626600\n",
      "Epoch 48, CIFAR-10 Batch 2:  Loss: 0.2105 Validation Accuracy: 0.628600\n",
      "Epoch 48, CIFAR-10 Batch 3:  Loss: 0.1103 Validation Accuracy: 0.626400\n",
      "Epoch 48, CIFAR-10 Batch 4:  Loss: 0.2354 Validation Accuracy: 0.612600\n",
      "Epoch 48, CIFAR-10 Batch 5:  Loss: 0.1596 Validation Accuracy: 0.636600\n",
      "Epoch 49, CIFAR-10 Batch 1:  Loss: 0.3049 Validation Accuracy: 0.609400\n",
      "Epoch 49, CIFAR-10 Batch 2:  Loss: 0.2381 Validation Accuracy: 0.633800\n",
      "Epoch 49, CIFAR-10 Batch 3:  Loss: 0.1161 Validation Accuracy: 0.624600\n",
      "Epoch 49, CIFAR-10 Batch 4:  Loss: 0.2030 Validation Accuracy: 0.621600\n",
      "Epoch 49, CIFAR-10 Batch 5:  Loss: 0.1588 Validation Accuracy: 0.633800\n",
      "Epoch 50, CIFAR-10 Batch 1:  Loss: 0.2819 Validation Accuracy: 0.627000\n",
      "Epoch 50, CIFAR-10 Batch 2:  Loss: 0.1942 Validation Accuracy: 0.627200\n",
      "Epoch 50, CIFAR-10 Batch 3:  Loss: 0.1222 Validation Accuracy: 0.615200\n",
      "Epoch 50, CIFAR-10 Batch 4:  Loss: 0.1898 Validation Accuracy: 0.624600\n",
      "Epoch 50, CIFAR-10 Batch 5:  Loss: 0.1252 Validation Accuracy: 0.637800\n"
     ]
    }
   ],
   "source": [
    "\"\"\"\n",
    "DON'T MODIFY ANYTHING IN THIS CELL\n",
    "\"\"\"\n",
    "save_model_path = './image_classification'\n",
    "\n",
    "print('Training...')\n",
    "with tf.Session() as sess:\n",
    "    # Initializing the variables\n",
    "    sess.run(tf.global_variables_initializer())\n",
    "    \n",
    "    # Training cycle\n",
    "    for epoch in range(epochs):\n",
    "        # Loop over all batches\n",
    "        n_batches = 5\n",
    "        for batch_i in range(1, n_batches + 1):\n",
    "            for batch_features, batch_labels in helper.load_preprocess_training_batch(batch_i, batch_size):\n",
    "                train_neural_network(sess, optimizer, keep_probability, batch_features, batch_labels)\n",
    "            print('Epoch {:>2}, CIFAR-10 Batch {}:  '.format(epoch + 1, batch_i), end='')\n",
    "            print_stats(sess, batch_features, batch_labels, cost, accuracy)\n",
    "            \n",
    "    # Save Model\n",
    "    saver = tf.train.Saver()\n",
    "    save_path = saver.save(sess, save_model_path)"
   ]
  },
  {
   "cell_type": "markdown",
   "metadata": {
    "deletable": true,
    "editable": true
   },
   "source": [
    "# Checkpoint\n",
    "The model has been saved to disk.\n",
    "## Test Model\n",
    "Test your model against the test dataset.  This will be your final accuracy. You should have an accuracy greater than 50%. If you don't, keep tweaking the model architecture and parameters."
   ]
  },
  {
   "cell_type": "code",
   "execution_count": 56,
   "metadata": {
    "collapsed": false,
    "deletable": true,
    "editable": true
   },
   "outputs": [
    {
     "name": "stdout",
     "output_type": "stream",
     "text": [
      "Testing Accuracy: 0.6380859375\n",
      "\n"
     ]
    },
    {
     "data": {
      "image/png": "[encoded data removed]",
      "text/plain": [
       "<matplotlib.figure.Figure at 0x7f9a6a4bb860>"
      ]
     },
     "metadata": {
      "image/png": {
       "height": 319,
       "width": 355
      }
     },
     "output_type": "display_data"
    }
   ],
   "source": [
    "\"\"\"\n",
    "DON'T MODIFY ANYTHING IN THIS CELL\n",
    "\"\"\"\n",
    "%matplotlib inline\n",
    "%config InlineBackend.figure_format = 'retina'\n",
    "\n",
    "import tensorflow as tf\n",
    "import pickle\n",
    "import helper\n",
    "import random\n",
    "\n",
    "# Set batch size if not already set\n",
    "try:\n",
    "    if batch_size:\n",
    "        pass\n",
    "except NameError:\n",
    "    batch_size = 64\n",
    "\n",
    "save_model_path = './image_classification'\n",
    "n_samples = 4\n",
    "top_n_predictions = 3\n",
    "\n",
    "def test_model():\n",
    "    \"\"\"\n",
    "    Test the saved model against the test dataset\n",
    "    \"\"\"\n",
    "\n",
    "    test_features, test_labels = pickle.load(open('preprocess_training.p', mode='rb'))\n",
    "    loaded_graph = tf.Graph()\n",
    "\n",
    "    with tf.Session(graph=loaded_graph) as sess:\n",
    "        # Load model\n",
    "        loader = tf.train.import_meta_graph(save_model_path + '.meta')\n",
    "        loader.restore(sess, save_model_path)\n",
    "\n",
    "        # Get Tensors from loaded model\n",
    "        loaded_x = loaded_graph.get_tensor_by_name('x:0')\n",
    "        loaded_y = loaded_graph.get_tensor_by_name('y:0')\n",
    "        loaded_keep_prob = loaded_graph.get_tensor_by_name('keep_prob:0')\n",
    "        loaded_logits = loaded_graph.get_tensor_by_name('logits:0')\n",
    "        loaded_acc = loaded_graph.get_tensor_by_name('accuracy:0')\n",
    "        \n",
    "        # Get accuracy in batches for memory limitations\n",
    "        test_batch_acc_total = 0\n",
    "        test_batch_count = 0\n",
    "        \n",
    "        for train_feature_batch, train_label_batch in helper.batch_features_labels(test_features, test_labels, batch_size):\n",
    "            test_batch_acc_total += sess.run(\n",
    "                loaded_acc,\n",
    "                feed_dict={loaded_x: train_feature_batch, loaded_y: train_label_batch, loaded_keep_prob: 1.0})\n",
    "            test_batch_count += 1\n",
    "\n",
    "        print('Testing Accuracy: {}\\n'.format(test_batch_acc_total/test_batch_count))\n",
    "\n",
    "        # Print Random Samples\n",
    "        random_test_features, random_test_labels = tuple(zip(*random.sample(list(zip(test_features, test_labels)), n_samples)))\n",
    "        random_test_predictions = sess.run(\n",
    "            tf.nn.top_k(tf.nn.softmax(loaded_logits), top_n_predictions),\n",
    "            feed_dict={loaded_x: random_test_features, loaded_y: random_test_labels, loaded_keep_prob: 1.0})\n",
    "        helper.display_image_predictions(random_test_features, random_test_labels, random_test_predictions)\n",
    "\n",
    "\n",
    "test_model()"
   ]
  },
  {
   "cell_type": "markdown",
   "metadata": {
    "deletable": true,
    "editable": true
   },
   "source": [
    "## Why 50-70% Accuracy?\n",
    "You might be wondering why you can't get an accuracy any higher. First things first, 50% isn't bad for a simple CNN.  Pure guessing would get you 10% accuracy. However, you might notice people are getting scores [well above 70%](http://rodrigob.github.io/are_we_there_yet/build/classification_datasets_results.html#43494641522d3130).  That's because we haven't taught you all there is to know about neural networks. We still need to cover a few more techniques.\n",
    "## Submitting This Project\n",
    "When submitting this project, make sure to run all the cells before saving the notebook.  Save the notebook file as \"dlnd_image_classification.ipynb\" and save it as a HTML file under \"File\" -> \"Download as\".  Include the \"helper.py\" and \"problem_unittests.py\" files in your submission."
   ]
  },
  {
   "cell_type": "code",
   "execution_count": null,
   "metadata": {
    "collapsed": true
   },
   "outputs": [],
   "source": []
  }
 ],
 "metadata": {
  "kernelspec": {
   "display_name": "Python 3",
   "language": "python",
   "name": "python3"
  },
  "language_info": {
   "codemirror_mode": {
    "name": "ipython",
    "version": 3
   },
   "file_extension": ".py",
   "mimetype": "text/x-python",
   "name": "python",
   "nbconvert_exporter": "python",
   "pygments_lexer": "ipython3",
   "version": "3.5.2"
  },
  "widgets": {
   "state": {},
   "version": "1.1.2"
  }
 },
 "nbformat": 4,
 "nbformat_minor": 0
}
